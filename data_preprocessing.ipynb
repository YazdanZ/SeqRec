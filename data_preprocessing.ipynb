{
 "cells": [
  {
   "cell_type": "code",
   "execution_count": 1,
   "metadata": {
    "id": "Sq8uv4c9S3-A"
   },
   "outputs": [],
   "source": [
    "import numpy as np\n",
    "# import pickle\n",
    "# pickle.HIGHEST_PROTOCOL = 4\n",
    "import pandas as pd\n",
    "import os\n",
    "from sklearn.model_selection import train_test_split\n",
    "from sklearn.preprocessing import MultiLabelBinarizer"
   ]
  },
  {
   "cell_type": "markdown",
   "metadata": {},
   "source": [
    "# Data Preprocessing"
   ]
  },
  {
   "cell_type": "markdown",
   "metadata": {
    "id": "51KGxlUHT-i3"
   },
   "source": [
    "## Load Data"
   ]
  },
  {
   "cell_type": "code",
   "execution_count": 2,
   "metadata": {},
   "outputs": [],
   "source": [
    "load_dir = os.path.join('data','ml-1m')\n",
    "save_dir = os.path.join('data','ml-1m-split')\n",
    "if not os.path.exists(save_dir):\n",
    "    os.makedirs(save_dir)"
   ]
  },
  {
   "cell_type": "code",
   "execution_count": 3,
   "metadata": {},
   "outputs": [],
   "source": [
    "ratings_header = ['user_id','movie_id','rating','timestamp']\n",
    "ratings_df = pd.read_csv(os.path.join(load_dir, 'ratings.dat'),sep='::',names = ratings_header, engine='python')\n",
    "\n",
    "users_header = ['user_id','gender','age','occupation','zip_code']\n",
    "users_df = pd.read_csv(os.path.join(load_dir, 'users.dat'),sep='::',names = users_header, engine='python')\n",
    "\n",
    "movies_header = ['movie_id','title','genres']\n",
    "movies_df = pd.read_csv(os.path.join(load_dir, 'movies.dat'),sep='::',names = movies_header, encoding='iso-8859-1', engine='python')"
   ]
  },
  {
   "cell_type": "code",
   "execution_count": 4,
   "metadata": {},
   "outputs": [],
   "source": [
    "users_df = users_df.set_index('user_id')\n",
    "movies_df = movies_df.set_index('movie_id')"
   ]
  },
  {
   "cell_type": "code",
   "execution_count": 5,
   "metadata": {},
   "outputs": [],
   "source": [
    "\n",
    "mlb = MultiLabelBinarizer()\n",
    "movie_genres = mlb.fit_transform(movies_df.genres.str.split('|').map(set))\n",
    "genre_df = pd.DataFrame(movie_genres, index=movies_df.index, columns = mlb.classes_, dtype=np.float32)\n",
    "movies_df = pd.concat([movies_df.title, genre_df], keys=movies_df.columns, axis=1)"
   ]
  },
  {
   "cell_type": "markdown",
   "metadata": {},
   "source": [
    "## train test split"
   ]
  },
  {
   "cell_type": "code",
   "execution_count": 6,
   "metadata": {},
   "outputs": [],
   "source": [
    "users_train_df, users_holdout_df = train_test_split(users_df, test_size=0.2, random_state=2658, shuffle=True)\n",
    "users_test_df, users_val_df = train_test_split(users_holdout_df, test_size=0.5, random_state=4769, shuffle=True)"
   ]
  },
  {
   "cell_type": "code",
   "execution_count": 7,
   "metadata": {},
   "outputs": [],
   "source": [
    "past_df = ratings_df.groupby('user_id').apply(lambda x: np.array_split(x.sort_values('timestamp'), 2)[0].reset_index(drop=True)).rename_axis((None, None))\n",
    "future_df = ratings_df.groupby('user_id').apply(lambda x: np.array_split(x.sort_values('timestamp'), 2)[1].reset_index(drop=True)).rename_axis((None, None))"
   ]
  },
  {
   "cell_type": "markdown",
   "metadata": {},
   "source": [
    "## apply to future and past"
   ]
  },
  {
   "cell_type": "code",
   "execution_count": 8,
   "metadata": {},
   "outputs": [],
   "source": [
    "future_train_df = future_df.loc[users_train_df.index]\n",
    "future_val_df = future_df.loc[users_val_df.index]\n",
    "future_test_df = future_df.loc[users_test_df.index]\n",
    "\n",
    "past_train_df = past_df.loc[users_train_df.index]\n",
    "past_val_df = past_df.loc[users_val_df.index]\n",
    "past_test_df = past_df.loc[users_test_df.index]"
   ]
  },
  {
   "cell_type": "markdown",
   "metadata": {},
   "source": [
    "## save"
   ]
  },
  {
   "cell_type": "code",
   "execution_count": 9,
   "metadata": {},
   "outputs": [],
   "source": [
    "store = pd.HDFStore(os.path.join(save_dir,'users_train_dfs.h5'), 'w')\n",
    "# store['users'] = users_train_df\n",
    "# store['users_history'] = past_train_df\n",
    "# store['samples_future'] = future_train_df\n",
    "store.put('users', users_train_df, format='table')\n",
    "store.put('users_history', past_train_df, format='table')\n",
    "store.put('samples_future', future_train_df, format='table')\n",
    "store.close()\n"
   ]
  },
  {
   "cell_type": "code",
   "execution_count": 10,
   "metadata": {},
   "outputs": [],
   "source": [
    "\n",
    "\n",
    "store = pd.HDFStore(os.path.join(save_dir,'users_val_dfs.h5'), 'w')\n",
    "# store['users'] = users_val_df\n",
    "# store['users_history'] = past_val_df\n",
    "# store['samples_future'] = future_val_df\n",
    "store.put('users', users_val_df, format='table')\n",
    "store.put('users_history', past_val_df, format='table')\n",
    "store.put('samples_future', future_val_df, format='table')\n",
    "store.close()\n",
    "\n",
    "store = pd.HDFStore(os.path.join(save_dir,'users_test_dfs.h5'), 'w')\n",
    "# store['users'] = users_test_df\n",
    "# store['users_history'] = past_test_df\n",
    "# store['samples_future'] = future_test_df\n",
    "store.put('users', users_test_df, format='table')\n",
    "store.put('users_history', past_test_df, format='table')\n",
    "store.put('samples_future', future_test_df, format='table')\n",
    "store.close()"
   ]
  },
  {
   "cell_type": "code",
   "execution_count": 11,
   "metadata": {},
   "outputs": [],
   "source": [
    "movies_df.to_hdf(os.path.join(save_dir,'movies_dfs.h5'), key='movies', mode='w', format='table')"
   ]
  }
 ],
 "metadata": {
  "accelerator": "GPU",
  "colab": {
   "collapsed_sections": [],
   "include_colab_link": true,
   "name": "mLSTMnet.ipynb",
   "provenance": []
  },
  "kernelspec": {
   "display_name": "Python 3 (ipykernel)",
   "language": "python",
   "name": "python3"
  },
  "language_info": {
   "codemirror_mode": {
    "name": "ipython",
    "version": 3
   },
   "file_extension": ".py",
   "mimetype": "text/x-python",
   "name": "python",
   "nbconvert_exporter": "python",
   "pygments_lexer": "ipython3",
   "version": "3.9.11"
  }
 },
 "nbformat": 4,
 "nbformat_minor": 4
}
