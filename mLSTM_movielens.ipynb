{
 "cells": [
  {
   "cell_type": "code",
   "execution_count": 1,
   "metadata": {},
   "outputs": [],
   "source": [
    "# !pip install pytorch-ignite\n",
    "# from google.colab import drive\n",
    "# drive.flush_and_unmount()\n",
    "# drive.mount('/content/drive')"
   ]
  },
  {
   "cell_type": "code",
   "execution_count": 2,
   "metadata": {
    "id": "Sq8uv4c9S3-A"
   },
   "outputs": [],
   "source": [
    "\n",
    "\n",
    "import torch\n",
    "from torch import nn\n",
    "\n",
    "import matplotlib.pyplot as plt\n",
    "import os\n",
    "\n",
    "import numpy as np\n",
    "\n",
    "from src.datasets.datasets import MovielensDataset\n",
    "from src.models.mlstm import mLSTM\n",
    "device = torch.device(\"cuda\" if torch.cuda.is_available() else \"cpu\")\n",
    "\n",
    "import datetime\n",
    "\n",
    "# datetime object containing current date and time\n",
    "script_start_time = datetime.datetime.now().strftime(\"%Y-%m-%d_%Hh%Mm%S\")\n",
    "\n",
    "find_lr = False"
   ]
  },
  {
   "cell_type": "markdown",
   "metadata": {
    "id": "51KGxlUHT-i3"
   },
   "source": [
    "# model"
   ]
  },
  {
   "cell_type": "code",
   "execution_count": 3,
   "metadata": {
    "id": "z7LqqL_8rrHJ"
   },
   "outputs": [],
   "source": [
    "# class ZeroEmbedding(nn.Embedding):\n",
    "#     \"\"\"\n",
    "#     Embedding layer that initialises its values\n",
    "#     to using a normal variable scaled by the inverse\n",
    "#     of the embedding dimension.\n",
    "#     Used for biases.\n",
    "#     \"\"\"\n",
    "\n",
    "#     def reset_parameters(self):\n",
    "#         \"\"\"\n",
    "#         Initialize parameters.\n",
    "#         \"\"\"\n",
    "\n",
    "#         self.weight.data.zero_()\n",
    "#         if self.padding_idx is not None:\n",
    "#             self.weight.data[self.padding_idx].fill_(0)\n",
    "\n",
    "\n",
    "class ScaledEmbedding(nn.Embedding):\n",
    "    \"\"\"\n",
    "    Embedding layer that initialises its values\n",
    "    to using a normal variable scaled by the inverse\n",
    "    of the embedding dimension.\n",
    "    \"\"\"\n",
    "\n",
    "    def reset_parameters(self):\n",
    "        \"\"\"\n",
    "        Initialize parameters.\n",
    "        \"\"\"\n",
    "\n",
    "        self.weight.data.normal_(0, 1.0 / self.embedding_dim)\n",
    "        if self.padding_idx is not None:\n",
    "            self.weight.data[self.padding_idx].fill_(0)"
   ]
  },
  {
   "cell_type": "code",
   "execution_count": 4,
   "metadata": {
    "id": "BDgV-CJ6UGiF"
   },
   "outputs": [],
   "source": [
    "PADDING_IDX = 0\n",
    "class mLSTMNet(nn.Module):\n",
    "    \"\"\"\n",
    "    Module representing users through running a recurrent neural network\n",
    "    over the sequence, using the hidden state at each timestep as the\n",
    "    sequence representation, a'la [2]_\n",
    "    During training, representations for all timesteps of the sequence are\n",
    "    computed in one go. Loss functions using the outputs will therefore\n",
    "    be aggregating both across the minibatch and across time in the sequence.\n",
    "    Parameters\n",
    "    ----------\n",
    "    num_items: int\n",
    "        Number of items to be represented.\n",
    "    embedding_dim: int, optional\n",
    "        Embedding dimension of the embedding layer, and the number of hidden\n",
    "        units in the LSTM layer.\n",
    "    item_embedding_layer: an embedding layer, optional\n",
    "        If supplied, will be used as the item embedding layer\n",
    "        of the network.\n",
    "    References\n",
    "    ----------\n",
    "    .. [2] Hidasi, Balazs, et al. \"Session-based recommendations with\n",
    "       recurrent neural networks.\" arXiv preprint arXiv:1511.06939 (2015).\n",
    "    \"\"\"\n",
    "\n",
    "    def __init__(self, num_items, embedding_dim=32, sparse=False):\n",
    "\n",
    "        super(mLSTMNet, self).__init__()\n",
    "\n",
    "        self.embedding_dim = embedding_dim\n",
    "\n",
    "        self.item_embeddings = ScaledEmbedding(num_items, embedding_dim,\n",
    "                                                padding_idx=PADDING_IDX,\n",
    "                                                sparse=sparse)\n",
    "\n",
    "        # self.item_biases = ZeroEmbedding(num_items, 1, sparse=sparse,\n",
    "        #                                  padding_idx=PADDING_IDX)\n",
    "\n",
    "        h_init = torch.zeros(embedding_dim+1)\n",
    "        h_init.normal_(0, 1.0 / self.embedding_dim)\n",
    "        self.h_init = nn.Parameter(h_init, requires_grad=True)\n",
    "\n",
    "        self.mlstm = mLSTM(input_size=embedding_dim+1,\n",
    "                           hidden_size=embedding_dim+1)\n",
    "\n",
    "        ## THIS IS IRRELEVANT - just for making an ratings output\n",
    "        ################################################################################################\n",
    "        self.rating  = nn.Sequential(\n",
    "            nn.Dropout(0.5),\n",
    "\n",
    "            nn.Linear(embedding_dim*2+1, embedding_dim),\n",
    "            # nn.BatchNorm1d(1024, momentum=0.99),\n",
    "            nn.ReLU(embedding_dim),\n",
    "\n",
    "            # nn.Dropout(0.5),\n",
    "            # nn.Linear(1024, 1024),\n",
    "            # nn.BatchNorm1d(1024),\n",
    "            # nn.ReLU(1024),\n",
    "\n",
    "            # nn.Dropout(0.5),\n",
    "            # nn.Linear(1024, 512),\n",
    "            # # nn.BatchNorm1d(512, momentum=0.99),\n",
    "            # nn.ReLU(512),\n",
    "\n",
    "            nn.Dropout(0.5),\n",
    "            nn.Linear(embedding_dim, 1)\n",
    "        )\n",
    "        # for p in self.rating.parameters():\n",
    "        #     if len(p.size()) >= 2:\n",
    "        #         torch.nn.init.xavier_uniform_(p)\n",
    "\n",
    "    def forward(self, item_sequences, ratings_sequences, movies):\n",
    "        \"\"\"\n",
    "        Compute user representation from a given sequence.\n",
    "        Returns\n",
    "        -------\n",
    "        tuple (all_representations, final_representation)\n",
    "            The first element contains all representations from step\n",
    "            -1 (no items seen) to t - 1 (all but the last items seen).\n",
    "            The second element contains the final representation\n",
    "            at step t (all items seen). This final state can be used\n",
    "            for prediction or evaluation.\n",
    "        \"\"\"\n",
    "        # Make the embedding dimension the channel dimension\n",
    "        sequence_embeddings = self.item_embeddings(item_sequences)\n",
    "\n",
    "        # pad from left with initial state\n",
    "        batch_size = sequence_embeddings.size()[0]\n",
    "        embedding_dim = self.h_init.size()[0]\n",
    "        seq_start = self.h_init.expand(batch_size, embedding_dim)\n",
    "\n",
    "        # ratings input\n",
    "        ratings_embedding = (ratings_sequences.unsqueeze(2) - 3)/(1.155*self.embedding_dim)\n",
    "\n",
    "        user_representations = self.mlstm(torch.cat([sequence_embeddings, ratings_embedding], dim=2),\n",
    "           (seq_start, seq_start))\n",
    "\n",
    "        user_representations = user_representations.permute(0, 2, 1)\n",
    "\n",
    "        ## user_representations[:, :, -1] is your user history representation (lstm output - )\n",
    "        ## make modifications after this point\n",
    "        ###################################################################################\n",
    "        movie_embedding = (self.item_embeddings(torch.unsqueeze(movies, 0))\n",
    "                            .squeeze(0))\n",
    "\n",
    "        # print(movie_embedding.shape, user_representations.shape)\n",
    "        x = torch.cat([movie_embedding, user_representations[:, :, -1]], dim=1)\n",
    "\n",
    "        return self.rating(x).squeeze(1)\n"
   ]
  },
  {
   "cell_type": "markdown",
   "metadata": {
    "id": "L8-Y34xTWR7Q"
   },
   "source": [
    "# Run"
   ]
  },
  {
   "cell_type": "code",
   "execution_count": 5,
   "metadata": {
    "id": "L2iWPo4al04d"
   },
   "outputs": [],
   "source": [
    "common_space = {\n",
    "    'batch_size': 512,\n",
    "    'learn_rate': 1.25e-2,\n",
    "    'l2': 5.90e-06,\n",
    "    'n_iter': 20,\n",
    "    'embedding_dim': 110,\n",
    "}\n",
    "\n",
    "space = common_space\n",
    "\n",
    "batch_size = int(space['batch_size'])\n",
    "learn_rate = space['learn_rate']\n",
    "n_iter = int(space['n_iter'])\n",
    "embedding_dim = int(space['embedding_dim'])\n",
    "l2 = space['l2']\n",
    "\n",
    "early_stop_crit = 5\n",
    "min_epochs = n_iter*0.3+early_stop_crit"
   ]
  },
  {
   "cell_type": "code",
   "execution_count": 6,
   "metadata": {},
   "outputs": [
    {
     "name": "stdout",
     "output_type": "stream",
     "text": [
      "model/mlstm/ml-1m-split/2022-04-09_19h00m17\n"
     ]
    }
   ],
   "source": [
    "save_dir = os.path.join('data','ml-1m-split')\n",
    "results_folder = os.path.join('results','mlstm', 'ml-1m-split', script_start_time)\n",
    "model_folder = os.path.join('model','mlstm', 'ml-1m-split', script_start_time)\n",
    "\n",
    "\n",
    "\n",
    "# save_dir = os.path.join('/content/drive/MyDrive/ECSE552proj',save_dir)\n",
    "# results_folder = os.path.join('/content/drive/MyDrive/ECSE552proj',results_folder)\n",
    "# model_folder = os.path.join('/content/drive/MyDrive/ECSE552proj',model_folder)\n",
    "\n",
    "\n",
    "\n",
    "if not os.path.isdir(model_folder):\n",
    "    os.makedirs(model_folder)\n",
    "    print(model_folder)\n",
    "\n",
    "if not os.path.isdir(results_folder):\n",
    "    os.makedirs(results_folder)\n",
    "\n",
    "train = MovielensDataset(os.path.join(save_dir,'users_train_dfs.h5'), os.path.join(save_dir,'movies_dfs.h5'), True, False, False, max_history_length=200)\n",
    "val = MovielensDataset(os.path.join(save_dir,'users_val_dfs.h5'), os.path.join(save_dir,'movies_dfs.h5'), True, False, False, max_history_length=200)\n",
    "test = MovielensDataset(os.path.join(save_dir,'users_test_dfs.h5'), os.path.join(save_dir,'movies_dfs.h5'), True, False, False, max_history_length=200)"
   ]
  },
  {
   "cell_type": "code",
   "execution_count": 7,
   "metadata": {},
   "outputs": [],
   "source": [
    "dataloader_train = torch.utils.data.DataLoader(train, batch_size=batch_size, shuffle=True, num_workers=8, pin_memory=True)\n",
    "dataloader_test = torch.utils.data.DataLoader(test, batch_size=batch_size, shuffle=False, num_workers=8, pin_memory=True)\n",
    "dataloader_val = torch.utils.data.DataLoader(val, batch_size=batch_size, shuffle=False, num_workers=8, pin_memory=True)"
   ]
  },
  {
   "cell_type": "code",
   "execution_count": 8,
   "metadata": {
    "colab": {
     "base_uri": "https://localhost:8080/",
     "height": 1000
    },
    "id": "_CsF24QOXAr0",
    "outputId": "54e79a43-9bd9-4d6b-cf5a-a102b1b22452"
   },
   "outputs": [
    {
     "name": "stdout",
     "output_type": "stream",
     "text": [
      "device is cuda!\n"
     ]
    }
   ],
   "source": [
    "print(\"device is {}!\".format(device))\n",
    "\n",
    "num_items = train.movies_df.index.max()+1\n"
   ]
  },
  {
   "cell_type": "code",
   "execution_count": 9,
   "metadata": {},
   "outputs": [],
   "source": [
    "if find_lr:\n",
    "    from ignite.handlers import FastaiLRFinder\n",
    "    from ignite.engine.engine import Engine\n",
    "\n",
    "    criterion = torch.nn.MSELoss()\n",
    "    def train_step(engine, sample):\n",
    "        model.train()\n",
    "        optimizer.zero_grad()   \n",
    "\n",
    "        user_history_movie_id = sample['user_history_movie_id'].to(device)\n",
    "        user_history_rating = sample['user_history_rating'].to(torch.float32).to(device)\n",
    "        movie_id = sample['movie_id'].to(device)\n",
    "        rating = sample['rating'].to(device)\n",
    "        \n",
    "\n",
    "        pred = model(user_history_movie_id, user_history_rating, movie_id)\n",
    "\n",
    "        loss = criterion(pred, rating.to(torch.float32))\n",
    "\n",
    "\n",
    "        loss.backward()\n",
    "        optimizer.step()\n",
    "\n",
    "        return loss.item()\n",
    "\n",
    "    trainer = Engine(train_step)\n",
    "\n",
    "\n",
    "    model = mLSTMNet(\n",
    "        num_items,\n",
    "        embedding_dim=embedding_dim)\n",
    "\n",
    "    model.to(device)\n",
    "    optimizer = torch.optim.AdamW(\n",
    "                    model.parameters(),\n",
    "                    weight_decay=l2,\n",
    "                    lr=1e-06\n",
    "                )\n",
    "\n",
    "\n",
    "\n",
    "    lr_finder = FastaiLRFinder()\n",
    "    to_save = {\"model\": model, \"optimizer\": optimizer}\n",
    "\n",
    "    with lr_finder.attach(trainer, to_save=to_save, diverge_th=5.0, end_lr=20) as trainer_with_lr_finder:\n",
    "        trainer_with_lr_finder.run(dataloader_train)\n",
    "\n",
    "    # Get lr_finder results\n",
    "    lr_finder.get_results()\n",
    "    plt.savefig(os.path.join(results_folder, 'lr_finder.png'))\n",
    "\n",
    "    # Plot lr_finder results (requires matplotlib)\n",
    "    lr_finder.plot()\n",
    "\n",
    "    # get lr_finder suggestion for lr\n",
    "    learn_rate = lr_finder.lr_suggestion()\n",
    "    print(learn_rate)\n",
    "    with open(os.path.join(results_folder, 'lr_finder.txt'), 'a') as the_file:\n",
    "        the_file.write(str(learn_rate))\n",
    "\n"
   ]
  },
  {
   "cell_type": "code",
   "execution_count": 10,
   "metadata": {},
   "outputs": [],
   "source": [
    "\n",
    "\n",
    "criterion = torch.nn.MSELoss()\n",
    "model = mLSTMNet(\n",
    "    num_items,\n",
    "    embedding_dim=embedding_dim)\n",
    "\n",
    "model.to(device)\n",
    "optimizer = torch.optim.AdamW(\n",
    "                model.parameters(),\n",
    "                weight_decay=l2,\n",
    "                lr=learn_rate\n",
    "            )\n",
    "\n",
    "\n",
    "scheduler = torch.optim.lr_scheduler.OneCycleLR(optimizer, max_lr=learn_rate, epochs=n_iter, steps_per_epoch=len(dataloader_train))\n",
    "\n",
    "scaler = torch.cuda.amp.GradScaler()"
   ]
  },
  {
   "cell_type": "code",
   "execution_count": 11,
   "metadata": {},
   "outputs": [],
   "source": [
    "def compute_acc(dataloader, model):\n",
    "    loss_running = []\n",
    "    accu_running = []\n",
    "    mean_weights = []\n",
    "    model.eval()\n",
    "    with torch.no_grad():\n",
    "        for _, sample in enumerate(dataloader):\n",
    "            user_history_movie_id = sample['user_history_movie_id'].to(device)\n",
    "            user_history_rating = sample['user_history_rating'].to(torch.float32).to(device)\n",
    "            movie_id = sample['movie_id'].to(device)\n",
    "            rating = sample['rating'].to(device)\n",
    "            \n",
    "            pred = model(user_history_movie_id, user_history_rating, movie_id)\n",
    "            pred_rounded = torch.clamp(pred,1,5).round()\n",
    "\n",
    "\n",
    "\n",
    "            loss = criterion(pred, rating.to(torch.float32))\n",
    "            accu = torch.sum(pred_rounded == rating.to(torch.int32)).to(torch.float32) / len(movie_id)\n",
    "            loss_running.append(loss.item())\n",
    "            accu_running.append(accu.item())\n",
    "\n",
    "            # we will weight average by batch size later\n",
    "            mean_weights.append(len(movie_id))\n",
    "\n",
    "    # print(len(loss_running), len(mean_weights))\n",
    "    return np.average(loss_running, weights=mean_weights), np.average(accu_running, weights=mean_weights)\n",
    "       "
   ]
  },
  {
   "cell_type": "code",
   "execution_count": 12,
   "metadata": {},
   "outputs": [
    {
     "name": "stdout",
     "output_type": "stream",
     "text": [
      "Start train...\n"
     ]
    },
    {
     "data": {
      "application/vnd.jupyter.widget-view+json": {
       "model_id": "8c1490bad1fd49c8ad653ed668b73404",
       "version_major": 2,
       "version_minor": 0
      },
      "text/plain": [
       "Epochs:   0%|          | 0/20 [00:00<?, ?it/s]"
      ]
     },
     "metadata": {},
     "output_type": "display_data"
    },
    {
     "data": {
      "application/vnd.jupyter.widget-view+json": {
       "model_id": "48716e87dc0849e8b687c927463ccdab",
       "version_major": 2,
       "version_minor": 0
      },
      "text/plain": [
       "Batch:   0%|          | 0/797 [00:00<?, ?it/s]"
      ]
     },
     "metadata": {},
     "output_type": "display_data"
    },
    {
     "name": "stdout",
     "output_type": "stream",
     "text": [
      "epoch: 0 train loss: 1.860089 validation loss: 1.056501 train accuracy: 0.314648 validation accuracy: 0.366965\n",
      "epoch: 1 train loss: 1.135527 validation loss: 1.068779 train accuracy: 0.360033 validation accuracy: 0.361681\n",
      "epoch: 2 train loss: 1.090319 validation loss: 1.05697 train accuracy: 0.367669 validation accuracy: 0.368017\n",
      "epoch: 3 train loss: 1.051664 validation loss: 1.044518 train accuracy: 0.373156 validation accuracy: 0.374792\n",
      "epoch: 4 train loss: 1.010383 validation loss: 1.020852 train accuracy: 0.381427 validation accuracy: 0.38036\n",
      "epoch: 5 train loss: 0.971175 validation loss: 1.018937 train accuracy: 0.389975 validation accuracy: 0.384066\n",
      "epoch: 6 train loss: 0.937614 validation loss: 1.022673 train accuracy: 0.396116 validation accuracy: 0.375976\n",
      "epoch: 7 train loss: 0.911834 validation loss: 1.037779 train accuracy: 0.401085 validation accuracy: 0.380075\n",
      "epoch: 8 train loss: 0.894162 validation loss: 1.032729 train accuracy: 0.406414 validation accuracy: 0.379177\n",
      "epoch: 9 train loss: 0.876212 validation loss: 1.036661 train accuracy: 0.40903 validation accuracy: 0.375976\n",
      "epoch: 10 train loss: 0.86233 validation loss: 1.037331 train accuracy: 0.412758 validation accuracy: 0.376524\n",
      "epoch: 11 train loss: 0.848981 validation loss: 1.053833 train accuracy: 0.416438 validation accuracy: 0.375406\n",
      "Validation loss plateaud; failed to improve after 6 at 12th epoch\n"
     ]
    }
   ],
   "source": [
    "from tqdm.autonotebook import tqdm\n",
    "\n",
    "# Initialize lists to store loss and accuracy values\n",
    "loss_history = []\n",
    "loss_history_val = []\n",
    "\n",
    "accu_history = []\n",
    "accu_history_val = []\n",
    "\n",
    "# Early Stopping\n",
    "best_loss_val = np.inf\n",
    "early_stop_count = 0\n",
    "\n",
    "\n",
    "# Train\n",
    "print(\"Start train...\")\n",
    "outer = tqdm(total=n_iter, desc='Epochs', position=0)\n",
    "inner = tqdm(total=len(dataloader_train), desc=f'Batch', position=1)\n",
    "for epoch in range(n_iter):\n",
    "\n",
    "    # check to see if validation loss has plateau'd\n",
    "    if early_stop_count >= early_stop_crit and epoch > min_epochs:\n",
    "        print(f'Validation loss plateaud; failed to improve after {early_stop_count} at {epoch}th epoch')\n",
    "        checkpoint = { \n",
    "            'epoch': epoch,\n",
    "            'model': model,\n",
    "            'optimizer': optimizer,\n",
    "            'scheduler': scheduler,\n",
    "            'scaler': scaler}\n",
    "        torch.save(checkpoint, os.path.join(model_folder, f'checkpt_earlystop_{epoch}.pth'))\n",
    "        break\n",
    "    \n",
    "    early_stop_count += 1\n",
    "    \n",
    "    #Train mode\n",
    "    model.train()\n",
    "    loss_running = []\n",
    "    accu_running = []\n",
    "    mean_weights = []\n",
    "    \n",
    "    inner.refresh()  #force print final state\n",
    "    inner.reset()  #reuse bar    \n",
    "    for _, sample in enumerate(dataloader_train):\n",
    "        optimizer.zero_grad()\n",
    "        user_history_movie_id = sample['user_history_movie_id'].to(device)\n",
    "        user_history_rating = sample['user_history_rating'].to(torch.float32).to(device)\n",
    "        movie_id = sample['movie_id'].to(device)\n",
    "        rating = sample['rating'].to(device)\n",
    "        \n",
    "        # with torch.cuda.amp.autocast():\n",
    "        #     pred = model(user_history_movie_id, movie_id)\n",
    "\n",
    "        #     loss = criterion(pred, rating.to(torch.float16))\n",
    "\n",
    "        pred = model(user_history_movie_id, user_history_rating, movie_id)\n",
    "\n",
    "        loss = criterion(pred, rating.to(torch.float32))\n",
    "        loss_running.append(loss.item())\n",
    "\n",
    "        pred_rounded = torch.clamp(pred,1,5).round()\n",
    "        accu = torch.sum(pred_rounded == rating.to(torch.int32)).to(torch.float32) / len(movie_id)\n",
    "        accu_running.append(accu.item())\n",
    "\n",
    "        # we will weight average by batch size later\n",
    "        mean_weights.append(len(movie_id))\n",
    "\n",
    "\n",
    "        # scaler.scale(loss).backward()\n",
    "        # scaler.step(optimizer)\n",
    "        # scaler.update()\n",
    "\n",
    "        loss.backward()\n",
    "        optimizer.step()\n",
    "        \n",
    "        inner.update(1)\n",
    "        \n",
    "    loss_history.append(np.average(loss_running, weights=mean_weights))\n",
    "    accu_history.append(np.average(accu_running, weights=mean_weights))\n",
    "\n",
    "\n",
    "\n",
    "    # Evaluate mode\n",
    "    model.eval()\n",
    "    with torch.no_grad():    \n",
    "        curr_loss_val, curr_accu_val = compute_acc(dataloader_val, model)\n",
    "        loss_history_val.append(curr_loss_val)\n",
    "        accu_history_val.append(curr_accu_val)\n",
    "    \n",
    "    # Change the learning rate\n",
    "    scheduler.step()\n",
    "\n",
    "    # Save the best weights\n",
    "    if curr_loss_val < best_loss_val:\n",
    "        best_loss_val = curr_loss_val\n",
    "        checkpoint = { \n",
    "            'epoch': epoch,\n",
    "            'model': model,\n",
    "            'optimizer': optimizer,\n",
    "            'scheduler': scheduler,\n",
    "            'scaler': scaler}\n",
    "        torch.save(checkpoint, os.path.join(model_folder, f'best_model.pth'))\n",
    "        early_stop_count = 0\n",
    "    \n",
    "    \n",
    "    # Save checkpoint every 10\n",
    "    if epoch % 10 == 0 or epoch >= n_iter-1:\n",
    "        checkpoint = { \n",
    "            'epoch': epoch,\n",
    "            'model': model,\n",
    "            'optimizer': optimizer,\n",
    "            'scheduler': scheduler,\n",
    "            'scaler': scaler}\n",
    "        torch.save(checkpoint, os.path.join(model_folder, f'checkpt{epoch}.pth'))\n",
    "        \n",
    "    # Print the results    \n",
    "    outer.update(1)\n",
    "    print(\"epoch:\", epoch, \\\n",
    "          \"train loss:\", round(loss_history[-1], 6), \\\n",
    "          \"validation loss:\", round(loss_history_val[-1], 6), \\\n",
    "            \"train accuracy:\", round(accu_history[-1], 6), \\\n",
    "          \"validation accuracy:\", round(accu_history_val[-1], 6))\n",
    "\n",
    "\n",
    "# Save final model \n",
    "checkpoint = { \n",
    "    'epoch': epoch,\n",
    "    'model': model,\n",
    "    'optimizer': optimizer,\n",
    "    'scheduler': scheduler,\n",
    "    'scaler': scaler}\n",
    "torch.save(checkpoint, os.path.join(model_folder, f'final_model.pth'))"
   ]
  },
  {
   "cell_type": "code",
   "execution_count": 13,
   "metadata": {},
   "outputs": [
    {
     "data": {
      "image/png": "[encoded data removed]",
      "text/plain": [
       "<Figure size 1080x1080 with 2 Axes>"
      ]
     },
     "metadata": {
      "needs_background": "light"
     },
     "output_type": "display_data"
    }
   ],
   "source": [
    "# Print loss history\n",
    "fig, axs = plt.subplots(2, 1, figsize=(15, 15), squeeze=False)\n",
    "\n",
    "axs[0][0].plot(loss_history, label='training')\n",
    "axs[0][0].plot(loss_history_val, label='validation')\n",
    "axs[0][0].set_xlabel('epoch')\n",
    "axs[0][0].set_ylabel('loss')\n",
    "axs[0][0].set_title('MSE over Training Epochs')\n",
    "axs[0][0].legend()\n",
    "\n",
    "axs[1][0].plot(accu_history, label='training')\n",
    "axs[1][0].plot(accu_history_val, label='validation')\n",
    "axs[1][0].set_xlabel('epoch')\n",
    "axs[1][0].set_ylabel('Accuracy')\n",
    "axs[1][0].set_title('Accuracy over Training Epochs')\n",
    "axs[1][0].legend()\n",
    "\n",
    "plt.savefig(os.path.join(results_folder, 'LossHistory.png'))\n",
    "plt.show(block=False)"
   ]
  },
  {
   "cell_type": "markdown",
   "metadata": {},
   "source": [
    "## Evaluate"
   ]
  },
  {
   "cell_type": "code",
   "execution_count": 14,
   "metadata": {},
   "outputs": [
    {
     "data": {
      "text/plain": [
       "<torch.autograd.grad_mode.set_grad_enabled at 0x7f7e33e4d610>"
      ]
     },
     "execution_count": 14,
     "metadata": {},
     "output_type": "execute_result"
    }
   ],
   "source": [
    "checkpoint = torch.load(os.path.join(model_folder, f'best_model.pth'),\n",
    "                        map_location=torch.device('cpu'))\n",
    "\n",
    "model = checkpoint['model']\n",
    "model.to(device)\n",
    "model.eval()\n",
    "torch.set_grad_enabled(False)\n"
   ]
  },
  {
   "cell_type": "code",
   "execution_count": 15,
   "metadata": {},
   "outputs": [],
   "source": [
    "import pandas as pd\n",
    "\n",
    "results = []\n",
    "# test_, test_accu = compute_acc(dataloader_train, model)\n",
    "# # test_string = f'Test loss: {test_loss}, Test accuracy: {test_accu}'\n",
    "# test_loss, test_accu = compute_acc(dataloader_val, model)\n",
    "# # test_string = f'Test loss: {test_loss}, Test accuracy: {test_accu}'\n",
    "# test_loss, test_accu = compute_acc(dataloader_test, model)\n",
    "# # test_string = f'Test loss: {test_loss}, Test accuracy: {test_accu}'\n",
    "# print(test_string)\n",
    "results.append(list(compute_acc(dataloader_train, model)))\n",
    "results.append(list(compute_acc(dataloader_val, model)))\n",
    "results.append(list(compute_acc(dataloader_test, model)))\n",
    "results_df = pd.DataFrame(results, index = ['train','val','test'], columns = ['loss (MSE)', 'accuracy'])\n",
    "results_df\n",
    "results_df.to_csv(os.path.join(results_folder, 'results.csv'))"
   ]
  },
  {
   "cell_type": "code",
   "execution_count": 16,
   "metadata": {},
   "outputs": [
    {
     "data": {
      "text/html": [
       "<div>\n",
       "<style scoped>\n",
       "    .dataframe tbody tr th:only-of-type {\n",
       "        vertical-align: middle;\n",
       "    }\n",
       "\n",
       "    .dataframe tbody tr th {\n",
       "        vertical-align: top;\n",
       "    }\n",
       "\n",
       "    .dataframe thead th {\n",
       "        text-align: right;\n",
       "    }\n",
       "</style>\n",
       "<table border=\"1\" class=\"dataframe\">\n",
       "  <thead>\n",
       "    <tr style=\"text-align: right;\">\n",
       "      <th></th>\n",
       "      <th>loss (MSE)</th>\n",
       "      <th>accuracy</th>\n",
       "    </tr>\n",
       "  </thead>\n",
       "  <tbody>\n",
       "    <tr>\n",
       "      <th>train</th>\n",
       "      <td>0.793157</td>\n",
       "      <td>0.431945</td>\n",
       "    </tr>\n",
       "    <tr>\n",
       "      <th>val</th>\n",
       "      <td>1.018937</td>\n",
       "      <td>0.384066</td>\n",
       "    </tr>\n",
       "    <tr>\n",
       "      <th>test</th>\n",
       "      <td>0.912326</td>\n",
       "      <td>0.396877</td>\n",
       "    </tr>\n",
       "  </tbody>\n",
       "</table>\n",
       "</div>"
      ],
      "text/plain": [
       "       loss (MSE)  accuracy\n",
       "train    0.793157  0.431945\n",
       "val      1.018937  0.384066\n",
       "test     0.912326  0.396877"
      ]
     },
     "execution_count": 16,
     "metadata": {},
     "output_type": "execute_result"
    }
   ],
   "source": [
    "results_df"
   ]
  },
  {
   "cell_type": "code",
   "execution_count": 17,
   "metadata": {},
   "outputs": [
    {
     "data": {
      "text/plain": [
       "'model/mlstm/ml-1m-split/2022-04-09_19h00m17'"
      ]
     },
     "execution_count": 17,
     "metadata": {},
     "output_type": "execute_result"
    }
   ],
   "source": [
    "model_folder\n"
   ]
  },
  {
   "cell_type": "code",
   "execution_count": null,
   "metadata": {},
   "outputs": [],
   "source": []
  }
 ],
 "metadata": {
  "accelerator": "GPU",
  "colab": {
   "collapsed_sections": [],
   "include_colab_link": true,
   "name": "mLSTMnet.ipynb",
   "provenance": []
  },
  "kernelspec": {
   "display_name": "Python 3 (ipykernel)",
   "language": "python",
   "name": "python3"
  },
  "language_info": {
   "codemirror_mode": {
    "name": "ipython",
    "version": 3
   },
   "file_extension": ".py",
   "mimetype": "text/x-python",
   "name": "python",
   "nbconvert_exporter": "python",
   "pygments_lexer": "ipython3",
   "version": "3.9.11"
  }
 },
 "nbformat": 4,
 "nbformat_minor": 4
}
