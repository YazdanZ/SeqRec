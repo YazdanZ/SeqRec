{
 "cells": [
  {
   "cell_type": "code",
   "execution_count": 1,
   "metadata": {},
   "outputs": [],
   "source": [
    "from src.datasets.datasets import MovielensDataset\n",
    "import os\n",
    "save_dir = os.path.join('data','ml-1m-split')\n",
    "results_folder = os.path.join('results','mlstm', 'ml-1m-split')\n",
    "\n",
    "train = MovielensDataset(os.path.join(save_dir,'users_train_dfs.h5'), os.path.join(save_dir,'movies_dfs.h5'), True, True, True, max_history_length=100)\n",
    "val = MovielensDataset(os.path.join(save_dir,'users_val_dfs.h5'), os.path.join(save_dir,'movies_dfs.h5'), True, True, True, max_history_length=100)\n",
    "test = MovielensDataset(os.path.join(save_dir,'users_test_dfs.h5'), os.path.join(save_dir,'movies_dfs.h5'), True, True, True, max_history_length=100)"
   ]
  },
  {
   "cell_type": "code",
   "execution_count": 3,
   "metadata": {},
   "outputs": [
    {
     "data": {
      "text/plain": [
       "{'user_id': 5817,\n",
       " 'movie_id': 2572,\n",
       " 'rating': 4,\n",
       " 'timestamp': 957914253,\n",
       " 'user_history_rating': array([3, 3, 3, 3, 3, 3, 3, 3, 3, 3, 3, 3, 3, 3, 3, 3, 3, 3, 3, 3, 3, 3,\n",
       "        3, 3, 3, 3, 3, 3, 3, 3, 3, 3, 3, 3, 3, 3, 3, 3, 3, 3, 3, 3, 3, 3,\n",
       "        3, 3, 3, 3, 3, 3, 3, 3, 3, 3, 3, 3, 3, 3, 3, 3, 3, 3, 3, 3, 3, 3,\n",
       "        3, 3, 3, 3, 3, 3, 3, 3, 3, 3, 3, 3, 3, 3, 3, 3, 3, 3, 3, 3, 3, 5,\n",
       "        5, 5, 4, 5, 3, 4, 4, 4, 4, 5, 4, 4]),\n",
       " 'user_history_movie_id': array([   0,    0,    0,    0,    0,    0,    0,    0,    0,    0,    0,\n",
       "           0,    0,    0,    0,    0,    0,    0,    0,    0,    0,    0,\n",
       "           0,    0,    0,    0,    0,    0,    0,    0,    0,    0,    0,\n",
       "           0,    0,    0,    0,    0,    0,    0,    0,    0,    0,    0,\n",
       "           0,    0,    0,    0,    0,    0,    0,    0,    0,    0,    0,\n",
       "           0,    0,    0,    0,    0,    0,    0,    0,    0,    0,    0,\n",
       "           0,    0,    0,    0,    0,    0,    0,    0,    0,    0,    0,\n",
       "           0,    0,    0,    0,    0,    0,    0,    0,    0,    0, 1198,\n",
       "        3101, 1997, 1617, 1620, 2531, 1210, 3409, 3513, 3300, 1127, 2699,\n",
       "        2707]),\n",
       " 'user_history_len_cut': 13,\n",
       " 'user_history_len': 13,\n",
       " 'user_info': {'gender': 'M',\n",
       "  'age': 25,\n",
       "  'occupation': 17,\n",
       "  'zip_code': '33028'},\n",
       " 'movie_info': {'title': '10 Things I Hate About You (1999)',\n",
       "  'genres': 'Comedy|Romance'}}"
      ]
     },
     "execution_count": 3,
     "metadata": {},
     "output_type": "execute_result"
    }
   ],
   "source": [
    "test[0]"
   ]
  },
  {
   "cell_type": "code",
   "execution_count": null,
   "metadata": {},
   "outputs": [],
   "source": []
  }
 ],
 "metadata": {
  "interpreter": {
   "hash": "3d8bcb8dab91976ff84728eb243d00e2a19632522cdcf450061768346bb57256"
  },
  "kernelspec": {
   "display_name": "Python 3.9.11 ('ECSE552proj')",
   "language": "python",
   "name": "python3"
  },
  "language_info": {
   "codemirror_mode": {
    "name": "ipython",
    "version": 3
   },
   "file_extension": ".py",
   "mimetype": "text/x-python",
   "name": "python",
   "nbconvert_exporter": "python",
   "pygments_lexer": "ipython3",
   "version": "3.9.11"
  },
  "orig_nbformat": 4
 },
 "nbformat": 4,
 "nbformat_minor": 2
}
