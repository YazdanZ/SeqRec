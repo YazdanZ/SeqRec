{
 "cells": [
  {
   "cell_type": "code",
   "execution_count": 1,
   "metadata": {
    "id": "Sq8uv4c9S3-A"
   },
   "outputs": [],
   "source": [
    "\n",
    "\n",
    "import torch\n",
    "from torch import nn\n",
    "\n",
    "import matplotlib.pyplot as plt\n",
    "import os\n",
    "\n",
    "import numpy as np\n",
    "\n",
    "from src.datasets.datasets import MovielensDataset\n",
    "from src.models.mlstm import mLSTM\n",
    "device = torch.device(\"cuda\" if torch.cuda.is_available() else \"cpu\")"
   ]
  },
  {
   "cell_type": "markdown",
   "metadata": {
    "id": "51KGxlUHT-i3"
   },
   "source": [
    "# model"
   ]
  },
  {
   "cell_type": "code",
   "execution_count": 2,
   "metadata": {
    "id": "z7LqqL_8rrHJ"
   },
   "outputs": [],
   "source": [
    "# class ZeroEmbedding(nn.Embedding):\n",
    "#     \"\"\"\n",
    "#     Embedding layer that initialises its values\n",
    "#     to using a normal variable scaled by the inverse\n",
    "#     of the embedding dimension.\n",
    "#     Used for biases.\n",
    "#     \"\"\"\n",
    "\n",
    "#     def reset_parameters(self):\n",
    "#         \"\"\"\n",
    "#         Initialize parameters.\n",
    "#         \"\"\"\n",
    "\n",
    "#         self.weight.data.zero_()\n",
    "#         if self.padding_idx is not None:\n",
    "#             self.weight.data[self.padding_idx].fill_(0)\n",
    "\n",
    "\n",
    "class ScaledEmbedding(nn.Embedding):\n",
    "    \"\"\"\n",
    "    Embedding layer that initialises its values\n",
    "    to using a normal variable scaled by the inverse\n",
    "    of the embedding dimension.\n",
    "    \"\"\"\n",
    "\n",
    "    def reset_parameters(self):\n",
    "        \"\"\"\n",
    "        Initialize parameters.\n",
    "        \"\"\"\n",
    "\n",
    "        self.weight.data.normal_(0, 1.0 / self.embedding_dim)\n",
    "        if self.padding_idx is not None:\n",
    "            self.weight.data[self.padding_idx].fill_(0)"
   ]
  },
  {
   "cell_type": "code",
   "execution_count": 3,
   "metadata": {
    "id": "BDgV-CJ6UGiF"
   },
   "outputs": [],
   "source": [
    "PADDING_IDX = 0\n",
    "class mLSTMNet(nn.Module):\n",
    "    \"\"\"\n",
    "    Module representing users through running a recurrent neural network\n",
    "    over the sequence, using the hidden state at each timestep as the\n",
    "    sequence representation, a'la [2]_\n",
    "    During training, representations for all timesteps of the sequence are\n",
    "    computed in one go. Loss functions using the outputs will therefore\n",
    "    be aggregating both across the minibatch and across time in the sequence.\n",
    "    Parameters\n",
    "    ----------\n",
    "    num_items: int\n",
    "        Number of items to be represented.\n",
    "    embedding_dim: int, optional\n",
    "        Embedding dimension of the embedding layer, and the number of hidden\n",
    "        units in the LSTM layer.\n",
    "    item_embedding_layer: an embedding layer, optional\n",
    "        If supplied, will be used as the item embedding layer\n",
    "        of the network.\n",
    "    References\n",
    "    ----------\n",
    "    .. [2] Hidasi, Balazs, et al. \"Session-based recommendations with\n",
    "       recurrent neural networks.\" arXiv preprint arXiv:1511.06939 (2015).\n",
    "    \"\"\"\n",
    "\n",
    "    def __init__(self, num_items, embedding_dim=32, sparse=False):\n",
    "\n",
    "        super(mLSTMNet, self).__init__()\n",
    "\n",
    "        self.embedding_dim = embedding_dim\n",
    "\n",
    "        self.item_embeddings = ScaledEmbedding(num_items, embedding_dim,\n",
    "                                                padding_idx=PADDING_IDX,\n",
    "                                                sparse=sparse)\n",
    "\n",
    "        # self.item_biases = ZeroEmbedding(num_items, 1, sparse=sparse,\n",
    "        #                                  padding_idx=PADDING_IDX)\n",
    "\n",
    "        h_init = torch.zeros(embedding_dim+1)\n",
    "        h_init.normal_(0, 1.0 / self.embedding_dim)\n",
    "        self.h_init = nn.Parameter(h_init, requires_grad=True)\n",
    "\n",
    "        self.mlstm = mLSTM(input_size=embedding_dim+1,\n",
    "                           hidden_size=embedding_dim+1)\n",
    "\n",
    "        ## THIS IS IRRELEVANT - just for making an ratings output\n",
    "        ################################################################################################\n",
    "        self.rating  = nn.Sequential(\n",
    "            nn.Dropout(0.5),\n",
    "            nn.Linear(embedding_dim*2+1, embedding_dim),\n",
    "            nn.ReLU(),\n",
    "            nn.Dropout(0.5),\n",
    "            nn.Linear(embedding_dim, 1)\n",
    "        )\n",
    "\n",
    "    def forward(self, item_sequences, ratings_sequences, movies, ):\n",
    "        \"\"\"\n",
    "        Compute user representation from a given sequence.\n",
    "        Returns\n",
    "        -------\n",
    "        tuple (all_representations, final_representation)\n",
    "            The first element contains all representations from step\n",
    "            -1 (no items seen) to t - 1 (all but the last items seen).\n",
    "            The second element contains the final representation\n",
    "            at step t (all items seen). This final state can be used\n",
    "            for prediction or evaluation.\n",
    "        \"\"\"\n",
    "        # Make the embedding dimension the channel dimension\n",
    "        sequence_embeddings = self.item_embeddings(item_sequences)\n",
    "\n",
    "        # pad from left with initial state\n",
    "        batch_size = sequence_embeddings.size()[0]\n",
    "        embedding_dim = self.h_init.size()[0]\n",
    "        seq_start = self.h_init.expand(batch_size, embedding_dim)\n",
    "\n",
    "        # ratings input\n",
    "        ratings_embedding = (ratings_sequences.unsqueeze(2) - 3)/(1.155*self.embedding_dim)\n",
    "\n",
    "        user_representations = self.mlstm(torch.cat([sequence_embeddings, ratings_embedding], dim=2),\n",
    "           (seq_start, seq_start))\n",
    "\n",
    "        user_representations = user_representations.permute(0, 2, 1)\n",
    "\n",
    "        ## user_representations[:, :, -1] is your user history representation (lstm output - )\n",
    "        ## make modifications after this point\n",
    "        ###################################################################################\n",
    "        movie_embedding = (self.item_embeddings(torch.unsqueeze(movies, 0))\n",
    "                            .squeeze(0))\n",
    "\n",
    "        # print(movie_embedding.shape, user_representations.shape)\n",
    "        x = torch.cat([movie_embedding, user_representations[:, :, -1]], dim=1)\n",
    "\n",
    "        return self.rating(x).squeeze(1)\n"
   ]
  },
  {
   "cell_type": "markdown",
   "metadata": {
    "id": "L8-Y34xTWR7Q"
   },
   "source": [
    "# Run"
   ]
  },
  {
   "cell_type": "code",
   "execution_count": 4,
   "metadata": {
    "id": "L2iWPo4al04d"
   },
   "outputs": [],
   "source": [
    "common_space = {\n",
    "    'batch_size': 512,\n",
    "    'learn_rate': 1.25e-2,\n",
    "    'l2': 5.90e-06,\n",
    "    'n_iter': 100,\n",
    "    'embedding_dim': 110,\n",
    "}\n",
    "\n",
    "space = common_space\n",
    "\n",
    "batch_size = int(space['batch_size'])\n",
    "learn_rate = space['learn_rate']\n",
    "n_iter = int(space['n_iter'])\n",
    "embedding_dim = int(space['embedding_dim'])\n",
    "l2 = space['l2']\n",
    "\n",
    "min_epochs = n_iter\n",
    "early_stop_crit = n_iter"
   ]
  },
  {
   "cell_type": "code",
   "execution_count": 5,
   "metadata": {},
   "outputs": [],
   "source": [
    "save_dir = os.path.join('data','ml-1m-split')\n",
    "results_folder = os.path.join('results','mlstm', 'ml-1m-split')\n",
    "model_folder = os.path.join('model','mlstm', 'ml-1m-split')\n",
    "\n",
    "if not os.path.isdir(model_folder):\n",
    "    os.makedirs(model_folder)\n",
    "\n",
    "if not os.path.isdir(results_folder):\n",
    "    os.makedirs(results_folder)\n",
    "\n",
    "train = MovielensDataset(os.path.join(save_dir,'users_train_dfs.h5'), os.path.join(save_dir,'movies_dfs.h5'), True, True, True, max_history_length=200)\n",
    "val = MovielensDataset(os.path.join(save_dir,'users_val_dfs.h5'), os.path.join(save_dir,'movies_dfs.h5'), True, True, True, max_history_length=200)\n",
    "test = MovielensDataset(os.path.join(save_dir,'users_test_dfs.h5'), os.path.join(save_dir,'movies_dfs.h5'), True, True, True, max_history_length=200)"
   ]
  },
  {
   "cell_type": "code",
   "execution_count": 6,
   "metadata": {},
   "outputs": [],
   "source": [
    "dataloader_train = torch.utils.data.DataLoader(train, batch_size=batch_size, shuffle=True, num_workers=8, pin_memory=True)\n",
    "dataloader_test = torch.utils.data.DataLoader(test, batch_size=batch_size, shuffle=False, num_workers=8, pin_memory=True)\n",
    "dataloader_val = torch.utils.data.DataLoader(val, batch_size=batch_size, shuffle=False, num_workers=8, pin_memory=True)"
   ]
  },
  {
   "cell_type": "code",
   "execution_count": 7,
   "metadata": {
    "colab": {
     "base_uri": "https://localhost:8080/",
     "height": 1000
    },
    "id": "_CsF24QOXAr0",
    "outputId": "54e79a43-9bd9-4d6b-cf5a-a102b1b22452"
   },
   "outputs": [
    {
     "name": "stdout",
     "output_type": "stream",
     "text": [
      "device is cuda!\n"
     ]
    }
   ],
   "source": [
    "print(\"device is {}!\".format(device))\n",
    "\n",
    "num_items = train.movies_df.index.max()+1\n"
   ]
  },
  {
   "cell_type": "code",
   "execution_count": 8,
   "metadata": {},
   "outputs": [],
   "source": [
    "\n",
    "model = mLSTMNet(\n",
    "    num_items,\n",
    "    embedding_dim=embedding_dim)\n",
    "\n",
    "model.to(device)\n",
    "\n",
    "# for m in model:\n",
    "#     if isinstance(m, torch.nn.Linear):\n",
    "#         torch.nn.init.xavier_uniform(m.weight)\n",
    "#         m.bias.data.fill_(0.01)\n",
    "\n",
    "optimizer = torch.optim.Adam(\n",
    "                model.parameters(),\n",
    "                weight_decay=l2,\n",
    "                lr=learn_rate\n",
    "            )\n",
    "scheduler = torch.optim.lr_scheduler.OneCycleLR(optimizer, max_lr=learn_rate, epochs=n_iter, steps_per_epoch=len(dataloader_train))\n",
    "criterion = torch.nn.MSELoss()\n",
    "scaler = torch.cuda.amp.GradScaler()\n",
    "\n"
   ]
  },
  {
   "cell_type": "code",
   "execution_count": 9,
   "metadata": {},
   "outputs": [],
   "source": [
    "def compute_acc(dataloader, model):\n",
    "    loss_running = []\n",
    "    accu_running = []\n",
    "    mean_weights = []\n",
    "    model.eval()\n",
    "    with torch.no_grad():\n",
    "        for _, sample in enumerate(dataloader):\n",
    "            user_history_movie_id = sample['user_history_movie_id'].to(device)\n",
    "            user_history_rating = sample['user_history_rating'].to(torch.float32).to(device)\n",
    "            movie_id = sample['movie_id'].to(device)\n",
    "            rating = sample['rating'].to(device)\n",
    "            \n",
    "            pred = model(user_history_movie_id, user_history_rating, movie_id)\n",
    "            pred_rounded = torch.clamp(pred,1,5).round()\n",
    "\n",
    "\n",
    "\n",
    "            loss = criterion(pred, rating.to(torch.float32))\n",
    "            accu = torch.sum(pred_rounded == rating.to(torch.int32)).to(torch.float32) / len(movie_id)\n",
    "            loss_running.append(loss.item())\n",
    "            accu_running.append(accu.item())\n",
    "\n",
    "            # we will weight average by batch size later\n",
    "            mean_weights.append(len(movie_id))\n",
    "\n",
    "    # print(len(loss_running), len(mean_weights))\n",
    "    return np.average(loss_running, weights=mean_weights), np.average(accu_running, weights=mean_weights)\n",
    "       "
   ]
  },
  {
   "cell_type": "code",
   "execution_count": 10,
   "metadata": {},
   "outputs": [
    {
     "name": "stdout",
     "output_type": "stream",
     "text": [
      "Start train...\n"
     ]
    },
    {
     "data": {
      "application/vnd.jupyter.widget-view+json": {
       "model_id": "69575dda26e64238af06aabeb691ed56",
       "version_major": 2,
       "version_minor": 0
      },
      "text/plain": [
       "Epochs:   0%|          | 0/100 [00:00<?, ?it/s]"
      ]
     },
     "metadata": {},
     "output_type": "display_data"
    },
    {
     "data": {
      "application/vnd.jupyter.widget-view+json": {
       "model_id": "848ee35a01f941098264719944cf642b",
       "version_major": 2,
       "version_minor": 0
      },
      "text/plain": [
       "Batch:   0%|          | 0/797 [00:00<?, ?it/s]"
      ]
     },
     "metadata": {},
     "output_type": "display_data"
    },
    {
     "name": "stdout",
     "output_type": "stream",
     "text": [
      "epoch: 0 train loss: 1.7682 validation loss: 1.059423\n",
      "epoch: 1 train loss: 1.123765 validation loss: 1.076848\n",
      "epoch: 2 train loss: 1.079118 validation loss: 1.039436\n",
      "epoch: 3 train loss: 1.034158 validation loss: 1.014598\n",
      "epoch: 4 train loss: 0.995096 validation loss: 0.993936\n",
      "epoch: 5 train loss: 0.959838 validation loss: 1.014503\n",
      "epoch: 6 train loss: 0.929242 validation loss: 1.007786\n",
      "epoch: 7 train loss: 0.907817 validation loss: 1.005292\n",
      "epoch: 8 train loss: 0.889668 validation loss: 1.011166\n",
      "epoch: 9 train loss: 0.874432 validation loss: 1.014231\n",
      "epoch: 10 train loss: 0.860468 validation loss: 1.026029\n",
      "epoch: 11 train loss: 0.848405 validation loss: 1.019993\n",
      "epoch: 12 train loss: 0.840242 validation loss: 1.022996\n",
      "epoch: 13 train loss: 0.830001 validation loss: 1.020278\n",
      "epoch: 14 train loss: 0.821761 validation loss: 1.02924\n",
      "epoch: 15 train loss: 0.814 validation loss: 1.023417\n",
      "epoch: 16 train loss: 0.806974 validation loss: 1.050591\n",
      "epoch: 17 train loss: 0.800504 validation loss: 1.062163\n",
      "epoch: 18 train loss: 0.796289 validation loss: 1.03394\n",
      "epoch: 19 train loss: 0.792155 validation loss: 1.043931\n",
      "epoch: 20 train loss: 0.787287 validation loss: 1.032809\n",
      "epoch: 21 train loss: 0.78632 validation loss: 1.061474\n",
      "epoch: 22 train loss: 0.783906 validation loss: 1.056219\n",
      "epoch: 23 train loss: 0.779893 validation loss: 1.074357\n",
      "epoch: 24 train loss: 0.777169 validation loss: 1.071854\n",
      "epoch: 25 train loss: 0.776204 validation loss: 1.042273\n",
      "epoch: 26 train loss: 0.774799 validation loss: 1.056232\n",
      "epoch: 27 train loss: 0.772865 validation loss: 1.060481\n",
      "epoch: 28 train loss: 0.770792 validation loss: 1.0547\n",
      "epoch: 29 train loss: 0.769021 validation loss: 1.058124\n",
      "epoch: 30 train loss: 0.7681 validation loss: 1.058908\n",
      "epoch: 31 train loss: 0.766066 validation loss: 1.054901\n",
      "epoch: 32 train loss: 0.764695 validation loss: 1.073243\n",
      "epoch: 33 train loss: 0.763234 validation loss: 1.063854\n",
      "epoch: 34 train loss: 0.762583 validation loss: 1.046676\n",
      "epoch: 35 train loss: 0.760026 validation loss: 1.059663\n",
      "epoch: 36 train loss: 0.758418 validation loss: 1.065031\n",
      "epoch: 37 train loss: 0.75736 validation loss: 1.063463\n",
      "epoch: 38 train loss: 0.756878 validation loss: 1.06435\n",
      "epoch: 39 train loss: 0.755434 validation loss: 1.072118\n",
      "epoch: 40 train loss: 0.753387 validation loss: 1.057908\n",
      "epoch: 41 train loss: 0.754008 validation loss: 1.060849\n",
      "epoch: 42 train loss: 0.75255 validation loss: 1.05353\n",
      "epoch: 43 train loss: 0.752862 validation loss: 1.064488\n",
      "epoch: 44 train loss: 0.750565 validation loss: 1.071113\n",
      "epoch: 45 train loss: 0.749842 validation loss: 1.051175\n",
      "epoch: 46 train loss: 0.748966 validation loss: 1.075869\n",
      "epoch: 47 train loss: 0.748047 validation loss: 1.078687\n",
      "epoch: 48 train loss: 0.747702 validation loss: 1.050482\n",
      "epoch: 49 train loss: 0.747273 validation loss: 1.070821\n",
      "epoch: 50 train loss: 0.745724 validation loss: 1.060853\n",
      "epoch: 51 train loss: 0.744884 validation loss: 1.064565\n",
      "epoch: 52 train loss: 0.744751 validation loss: 1.059269\n",
      "epoch: 53 train loss: 0.744092 validation loss: 1.068054\n",
      "epoch: 54 train loss: 0.743337 validation loss: 1.077642\n",
      "epoch: 55 train loss: 0.742585 validation loss: 1.070526\n",
      "epoch: 56 train loss: 0.742163 validation loss: 1.070702\n",
      "epoch: 57 train loss: 0.742108 validation loss: 1.070326\n",
      "epoch: 58 train loss: 0.742129 validation loss: 1.060781\n",
      "epoch: 59 train loss: 0.742034 validation loss: 1.065236\n",
      "epoch: 60 train loss: 0.740494 validation loss: 1.070938\n",
      "epoch: 61 train loss: 0.740174 validation loss: 1.068175\n",
      "epoch: 62 train loss: 0.739493 validation loss: 1.064433\n",
      "epoch: 63 train loss: 0.739468 validation loss: 1.071978\n",
      "epoch: 64 train loss: 0.738218 validation loss: 1.057341\n",
      "epoch: 65 train loss: 0.738284 validation loss: 1.06654\n",
      "epoch: 66 train loss: 0.738294 validation loss: 1.064167\n",
      "epoch: 67 train loss: 0.738351 validation loss: 1.068187\n",
      "epoch: 68 train loss: 0.73782 validation loss: 1.077663\n",
      "epoch: 69 train loss: 0.737111 validation loss: 1.062219\n",
      "epoch: 70 train loss: 0.737279 validation loss: 1.079732\n",
      "epoch: 71 train loss: 0.735098 validation loss: 1.082739\n",
      "epoch: 72 train loss: 0.736472 validation loss: 1.074226\n",
      "epoch: 73 train loss: 0.73526 validation loss: 1.060392\n",
      "epoch: 74 train loss: 0.733838 validation loss: 1.078291\n",
      "epoch: 75 train loss: 0.734476 validation loss: 1.077503\n",
      "epoch: 76 train loss: 0.734342 validation loss: 1.066074\n",
      "epoch: 77 train loss: 0.73469 validation loss: 1.076085\n",
      "epoch: 78 train loss: 0.733483 validation loss: 1.059206\n",
      "epoch: 79 train loss: 0.733738 validation loss: 1.062363\n",
      "epoch: 80 train loss: 0.732038 validation loss: 1.058928\n",
      "epoch: 81 train loss: 0.732378 validation loss: 1.054644\n",
      "epoch: 82 train loss: 0.731335 validation loss: 1.067321\n",
      "epoch: 83 train loss: 0.731466 validation loss: 1.072251\n",
      "epoch: 84 train loss: 0.73245 validation loss: 1.06822\n",
      "epoch: 85 train loss: 0.73175 validation loss: 1.064476\n",
      "epoch: 86 train loss: 0.731434 validation loss: 1.067684\n",
      "epoch: 87 train loss: 0.731149 validation loss: 1.05725\n",
      "epoch: 88 train loss: 0.730239 validation loss: 1.071213\n",
      "epoch: 89 train loss: 0.730392 validation loss: 1.072496\n",
      "epoch: 90 train loss: 0.729987 validation loss: 1.06293\n",
      "epoch: 91 train loss: 0.730172 validation loss: 1.067292\n",
      "epoch: 92 train loss: 0.728951 validation loss: 1.069832\n",
      "epoch: 93 train loss: 0.728596 validation loss: 1.073909\n",
      "epoch: 94 train loss: 0.729583 validation loss: 1.075376\n",
      "epoch: 95 train loss: 0.728527 validation loss: 1.066511\n",
      "epoch: 96 train loss: 0.728301 validation loss: 1.070318\n",
      "epoch: 97 train loss: 0.728322 validation loss: 1.077635\n",
      "epoch: 98 train loss: 0.727574 validation loss: 1.073764\n",
      "epoch: 99 train loss: 0.727586 validation loss: 1.069725\n"
     ]
    }
   ],
   "source": [
    "from tqdm.autonotebook import tqdm\n",
    "\n",
    "# Initialize lists to store loss and accuracy values\n",
    "loss_history = []\n",
    "loss_history_val = []\n",
    "\n",
    "accu_history = []\n",
    "accu_history_val = []\n",
    "\n",
    "# Early Stopping\n",
    "best_loss_val = np.inf\n",
    "early_stop_count = 0\n",
    "\n",
    "\n",
    "# Train\n",
    "print(\"Start train...\")\n",
    "outer = tqdm(total=n_iter, desc='Epochs', position=0)\n",
    "inner = tqdm(total=len(dataloader_train), desc=f'Batch', position=1)\n",
    "for epoch in range(n_iter):\n",
    "\n",
    "    # check to see if validation loss has plateau'd\n",
    "    if early_stop_count >= early_stop_crit and epoch > min_epochs:\n",
    "        print(f'Validation loss plateaud; failed to improve after {early_stop_count} at {epoch}th epoch')\n",
    "        checkpoint = { \n",
    "            'epoch': epoch,\n",
    "            'model': model,\n",
    "            'optimizer': optimizer,\n",
    "            'scheduler': scheduler,\n",
    "            'scaler': scaler}\n",
    "        torch.save(checkpoint, os.path.join(model_folder, f'checkpt_earlystop_{epoch}.pth'))\n",
    "        break\n",
    "    \n",
    "    early_stop_count += 1\n",
    "    \n",
    "    #Train mode\n",
    "    model.train()\n",
    "    loss_running = []\n",
    "    accu_running = []\n",
    "    mean_weights = []\n",
    "    \n",
    "    inner.refresh()  #force print final state\n",
    "    inner.reset()  #reuse bar    \n",
    "    for _, sample in enumerate(dataloader_train):\n",
    "        optimizer.zero_grad()\n",
    "        user_history_movie_id = sample['user_history_movie_id'].to(device)\n",
    "        user_history_rating = sample['user_history_rating'].to(torch.float32).to(device)\n",
    "        movie_id = sample['movie_id'].to(device)\n",
    "        rating = sample['rating'].to(device)\n",
    "        \n",
    "        # with torch.cuda.amp.autocast():\n",
    "        #     pred = model(user_history_movie_id, movie_id)\n",
    "\n",
    "        #     loss = criterion(pred, rating.to(torch.float16))\n",
    "\n",
    "        pred = model(user_history_movie_id, user_history_rating, movie_id)\n",
    "\n",
    "        loss = criterion(pred, rating.to(torch.float32))\n",
    "        loss_running.append(loss.item())\n",
    "\n",
    "        pred_rounded = torch.clamp(pred,1,5).round()\n",
    "        accu = torch.sum(pred_rounded == rating.to(torch.int32)).to(torch.float32) / len(movie_id)\n",
    "        accu_running.append(accu.item())\n",
    "\n",
    "        # we will weight average by batch size later\n",
    "        mean_weights.append(len(movie_id))\n",
    "\n",
    "\n",
    "        # scaler.scale(loss).backward()\n",
    "        # scaler.step(optimizer)\n",
    "        # scaler.update()\n",
    "\n",
    "        loss.backward()\n",
    "        optimizer.step()\n",
    "        \n",
    "        inner.update(1)\n",
    "        \n",
    "    loss_history.append(np.average(loss_running, weights=mean_weights))\n",
    "    accu_history.append(np.average(accu_running, weights=mean_weights))\n",
    "\n",
    "\n",
    "\n",
    "    # Evaluate mode\n",
    "    model.eval()\n",
    "    with torch.no_grad():    \n",
    "        curr_loss_val, curr_accu_val = compute_acc(dataloader_val, model)\n",
    "        loss_history_val.append(curr_loss_val)\n",
    "        accu_history_val.append(curr_accu_val)\n",
    "    \n",
    "    # Change the learning rate\n",
    "    scheduler.step()\n",
    "\n",
    "    # Save the best weights\n",
    "    if curr_loss_val < best_loss_val:\n",
    "        best_loss_val = curr_loss_val\n",
    "        checkpoint = { \n",
    "            'epoch': epoch,\n",
    "            'model': model,\n",
    "            'optimizer': optimizer,\n",
    "            'scheduler': scheduler,\n",
    "            'scaler': scaler}\n",
    "        torch.save(checkpoint, os.path.join(model_folder, f'best_model.pth'))\n",
    "        early_stop_count = 0\n",
    "    \n",
    "    \n",
    "    # Save checkpoint every 10\n",
    "    if epoch % 10 == 0 or epoch >= n_iter-1:\n",
    "        checkpoint = { \n",
    "            'epoch': epoch,\n",
    "            'model': model,\n",
    "            'optimizer': optimizer,\n",
    "            'scheduler': scheduler,\n",
    "            'scaler': scaler}\n",
    "        torch.save(checkpoint, os.path.join(model_folder, f'checkpt{epoch}.pth'))\n",
    "        \n",
    "    # Print the results    \n",
    "    outer.update(1)\n",
    "    print(\"epoch:\", epoch, \\\n",
    "          \"train loss:\", round(loss_history[-1], 6), \\\n",
    "          \"validation loss:\", round(loss_history_val[-1], 6), \\\n",
    "            \"train accuracy:\", round(loss_history[-1], 6), \\\n",
    "          \"validation accuracy:\", round(loss_history_val[-1], 6))\n",
    "\n",
    "\n",
    "# Save final model \n",
    "checkpoint = { \n",
    "    'epoch': epoch,\n",
    "    'model': model,\n",
    "    'optimizer': optimizer,\n",
    "    'scheduler': scheduler,\n",
    "    'scaler': scaler}\n",
    "torch.save(checkpoint, os.path.join(model_folder, f'final_model.pth'))"
   ]
  },
  {
   "cell_type": "code",
   "execution_count": 11,
   "metadata": {},
   "outputs": [
    {
     "data": {
      "image/png": "[encoded data removed]",
      "text/plain": [
       "<Figure size 1080x1080 with 2 Axes>"
      ]
     },
     "metadata": {
      "needs_background": "light"
     },
     "output_type": "display_data"
    }
   ],
   "source": [
    "# Print loss history\n",
    "fig, axs = plt.subplots(1, 2, figsize=(15, 15), squeeze=False)\n",
    "\n",
    "axs[0][0].plot(loss_history, label='training')\n",
    "axs[0][0].plot(loss_history_val, label='validation')\n",
    "axs[0][0].set_xlabel('epoch')\n",
    "axs[0][0].set_ylabel('loss')\n",
    "axs[0][0].set_title('MSE over Training Epochs')\n",
    "axs[0][0].legend()\n",
    "\n",
    "axs[0][1].plot(accu_history, label='training')\n",
    "axs[0][1].plot(accu_history_val, label='validation')\n",
    "axs[0][1].set_xlabel('epoch')\n",
    "axs[0][1].set_ylabel('Accuracy')\n",
    "axs[0][1].set_title('Accuracy over Training Epochs')\n",
    "axs[0][1].legend()\n",
    "\n",
    "plt.savefig(os.path.join(results_folder, 'LossHistory.png'))\n",
    "plt.show(block=False)"
   ]
  },
  {
   "cell_type": "markdown",
   "metadata": {},
   "source": [
    "## Evaluate"
   ]
  },
  {
   "cell_type": "code",
   "execution_count": 12,
   "metadata": {},
   "outputs": [
    {
     "data": {
      "text/plain": [
       "<torch.autograd.grad_mode.set_grad_enabled at 0x7f939b2cf1c0>"
      ]
     },
     "execution_count": 12,
     "metadata": {},
     "output_type": "execute_result"
    }
   ],
   "source": [
    "checkpoint = torch.load(os.path.join(model_folder, f'best_model.pth'),\n",
    "                        map_location=torch.device('cpu'))\n",
    "\n",
    "model = checkpoint['model']\n",
    "model.to(device)\n",
    "model.eval()\n",
    "torch.set_grad_enabled(False)\n"
   ]
  },
  {
   "cell_type": "code",
   "execution_count": 13,
   "metadata": {},
   "outputs": [
    {
     "name": "stdout",
     "output_type": "stream",
     "text": [
      "Test loss: 0.9196227312214938, Test accuracy: 0.3868506277476423\n"
     ]
    }
   ],
   "source": [
    "\n",
    "test_loss, test_accu = compute_acc(dataloader_test, model)\n",
    "print(f'Test loss: {test_loss}, Test accuracy: {test_accu}')"
   ]
  }
 ],
 "metadata": {
  "accelerator": "GPU",
  "colab": {
   "collapsed_sections": [],
   "include_colab_link": true,
   "name": "mLSTMnet.ipynb",
   "provenance": []
  },
  "kernelspec": {
   "display_name": "Python 3 (ipykernel)",
   "language": "python",
   "name": "python3"
  },
  "language_info": {
   "codemirror_mode": {
    "name": "ipython",
    "version": 3
   },
   "file_extension": ".py",
   "mimetype": "text/x-python",
   "name": "python",
   "nbconvert_exporter": "python",
   "pygments_lexer": "ipython3",
   "version": "3.9.11"
  }
 },
 "nbformat": 4,
 "nbformat_minor": 4
}
